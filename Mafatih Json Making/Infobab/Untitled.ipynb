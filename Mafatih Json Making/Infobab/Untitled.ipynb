{
 "cells": [
  {
   "cell_type": "code",
   "execution_count": 10,
   "metadata": {},
   "outputs": [],
   "source": [
    "import json\n",
    "import os\n",
    "from natsort import natsorted # pip install natsort\n",
    "\n",
    "# babsNum=[71,72,73,74,75,76]\n",
    "babsNum=[72,73,74]\n",
    "\n",
    "for i in babsNum:\n",
    "    ListSearch=[]\n",
    "    index=0\n",
    "    filelocation=f\"/Users/msh/Developer/Flutter/Mafatih/python/Babs/{i}\"\n",
    "\n",
    "    listFiles = natsorted(os.listdir(filelocation))  # dir is your directory path\n",
    "    number_files = len(listFiles)\n",
    "    if '.DS_Store' in listFiles:\n",
    "        listFiles.remove('.DS_Store')\n",
    "    for onefile in listFiles:\n",
    "        index=index+1\n",
    "        dirr= f\"{filelocation}/{onefile}\"\n",
    "        f = open(dirr, \"r\", encoding='utf8')\n",
    "        fileRead = json.load(f)\n",
    "        fileFinal=fileRead[onefile]\n",
    "        if fileFinal[\"title\"]==\"\":\n",
    "            fileFinal[\"title\"]=\"no title\"\n",
    "        fileFinal[\"link\"]=\"/mafatih766/نمازهای-مخصوص-شب-جمعه--کلیات-مفاتیح-الجنان-با-ترجمه-استاد-حسین-انصاریان\"\n",
    "            \n",
    "        ListSearch.append({'index': int(onefile),'title':fileFinal[\"title\"] , 'link':fileFinal[\"link\"], 'indent':\"1\" })\n",
    "\n",
    "\n",
    "    dirDestination=\"\"\n",
    "    # dirFinal=f\"{dirDestination}\\\\ListofJsonForSearch.json\"\n",
    "    dirFinal=f\"infobab{i}.json\"\n",
    "    with open(dirFinal, \"w\", encoding='utf8') as write_file:\n",
    "        json.dump(ListSearch, write_file, ensure_ascii=False, indent=4)"
   ]
  },
  {
   "cell_type": "code",
   "execution_count": 12,
   "metadata": {},
   "outputs": [
    {
     "data": {
      "text/plain": [
       "['0',\n",
       " '3',\n",
       " '4',\n",
       " '5',\n",
       " '6',\n",
       " '7',\n",
       " '8',\n",
       " '9',\n",
       " '10',\n",
       " '11',\n",
       " '12',\n",
       " '13',\n",
       " '14',\n",
       " '15',\n",
       " '16',\n",
       " '17',\n",
       " '18',\n",
       " '19',\n",
       " '20',\n",
       " '21',\n",
       " '22',\n",
       " '23',\n",
       " '24',\n",
       " '25',\n",
       " '26',\n",
       " '27',\n",
       " '28',\n",
       " '29',\n",
       " '30',\n",
       " '31',\n",
       " '32',\n",
       " '33',\n",
       " '34',\n",
       " '35',\n",
       " '36',\n",
       " '37',\n",
       " '.DS_Store']"
      ]
     },
     "execution_count": 12,
     "metadata": {},
     "output_type": "execute_result"
    }
   ],
   "source": [
    "listFiles"
   ]
  },
  {
   "cell_type": "code",
   "execution_count": null,
   "metadata": {},
   "outputs": [],
   "source": []
  }
 ],
 "metadata": {
  "kernelspec": {
   "display_name": "Python 3",
   "language": "python",
   "name": "python3"
  },
  "language_info": {
   "codemirror_mode": {
    "name": "ipython",
    "version": 3
   },
   "file_extension": ".py",
   "mimetype": "text/x-python",
   "name": "python",
   "nbconvert_exporter": "python",
   "pygments_lexer": "ipython3",
   "version": "3.8.13+"
  }
 },
 "nbformat": 4,
 "nbformat_minor": 4
}
