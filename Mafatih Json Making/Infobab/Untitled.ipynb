{
 "cells": [
  {
   "cell_type": "code",
   "execution_count": 2,
   "metadata": {},
   "outputs": [],
   "source": [
    "import json\n",
    "import os\n",
    "from natsort import natsorted # pip install natsort\n",
    "\n",
    "babsNum=[70,71,72,73,74,75,76,77]\n",
    "for i in babsNum:\n",
    "    ListSearch=[]\n",
    "    index=0\n",
    "    filelocation=f\"G:\\\\Flutter\\\\Mafatih\\\\Mafatih\\\\Mafatih\\\\python\\\\Babs\\\\{i}\"\n",
    "\n",
    "    listFiles = natsorted(os.listdir(filelocation))  # dir is your directory path\n",
    "    number_files = len(listFiles)\n",
    "    for onefile in listFiles:\n",
    "        index=index+1\n",
    "        dirr= f\"{filelocation}\\\\{onefile}\"\n",
    "        f = open(dirr, \"r\", encoding='utf8')\n",
    "        fileRead = json.load(f)\n",
    "        fileFinal=fileRead[onefile[:-5]]\n",
    "        if fileFinal[\"title\"]==\"\":\n",
    "            fileFinal[\"title\"]=\"no title\"\n",
    "        fileFinal[\"link\"]=\"/mafatih766/نمازهای-مخصوص-شب-جمعه--کلیات-مفاتیح-الجنان-با-ترجمه-استاد-حسین-انصاریان\"\n",
    "            \n",
    "        ListSearch.append({'index': int(onefile[:-5]),'title':fileFinal[\"title\"] , 'link':fileFinal[\"link\"], 'indent':\"1\" })\n",
    "\n",
    "\n",
    "    dirDestination=\"\"\n",
    "    # dirFinal=f\"{dirDestination}\\\\ListofJsonForSearch.json\"\n",
    "    dirFinal=f\"infobab{i}.json\"\n",
    "    with open(dirFinal, \"w\", encoding='utf8') as write_file:\n",
    "        json.dump(ListSearch, write_file, ensure_ascii=False, indent=4)"
   ]
  },
  {
   "cell_type": "code",
   "execution_count": null,
   "metadata": {},
   "outputs": [],
   "source": []
  }
 ],
 "metadata": {
  "kernelspec": {
   "display_name": "Python 3",
   "language": "python",
   "name": "python3"
  },
  "language_info": {
   "codemirror_mode": {
    "name": "ipython",
    "version": 3
   },
   "file_extension": ".py",
   "mimetype": "text/x-python",
   "name": "python",
   "nbconvert_exporter": "python",
   "pygments_lexer": "ipython3",
   "version": "3.8.2"
  }
 },
 "nbformat": 4,
 "nbformat_minor": 4
}
