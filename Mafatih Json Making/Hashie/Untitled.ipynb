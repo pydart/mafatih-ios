{
 "cells": [
  {
   "cell_type": "code",
   "execution_count": 1,
   "metadata": {},
   "outputs": [],
   "source": [
    "import bs4 as bs\n",
    "import urllib.request as urreq\n",
    "import json\n",
    "import os\n",
    "    \n",
    "filelocation=os.getcwd()\n",
    "filename=f\"infobab{1}\"\n",
    "dirr= f\"{filelocation}\\\\{filename}.json\"\n",
    "f = open(dirr, \"r\", encoding='utf8')\n",
    "listSec = json.load(f)\n",
    "links=[]\n",
    "for sec in listSec:\n",
    "    ref=sec[\"link\"]\n",
    "    Ref= f\"https://www.erfan.ir{ref}\"\n",
    "    links.append(Ref) "
   ]
  },
  {
   "cell_type": "code",
   "execution_count": 10,
   "metadata": {},
   "outputs": [
    {
     "data": {
      "text/plain": [
       "{1: ' بدان که از جمله اوقات شریف«بین الطلوعین» [زمان بین طلوع سپیده صادق و طلوع خورشید] است و اخبار بسیاری از اهل\\u200cبیت(علیهم\\u200cالسلام) در فضیلت این وقت و تشویق بر عبادت و ذکر و تسبیح در آن وارد شده است.',\n",
       " 2: 'و در برخی اخبار از این وقت تعبیر به ساعت غفلت شده، چنان\\u200cکه از امام باقر(علیه\\u200cالسلام) روایت شده: ابلیس رانده\\u200cشده لشگرهای خویش را در دو وقت پراکنده می\\u200cسازد: وقت غروب آفتاب و زمان طلوع آن، پس در این دو ساعت خدا را بسیار یاد کنید و از شرّ ابلیس و لشگرش به خدا پناه ببرید و در این دو ساعت کودکان خود را به پناه خدا درآورید، زیرا آن دو ساعت، ساعت غفلت است؛ و بدان که خواب در این دو وقت مکروه است.',\n",
       " 3: 'از حضرت باقر (علیه\\u200cالسلام) روایت شده: خواب در وقت صبح خوابی است شوم و مانع روزی است و رنگ رخسار را زرد و دگرگون می\\u200cکند و به درستی که حق تعالی روزی\\u200cها را در بین طلوع سپیده تا طلوع خورشید تقسیم می\\u200cکند، بنابراین از خوابیدن در این وقت بپرهیزید.',\n",
       " 4: 'شیخ طوسی این دعا را در کتاب «مصباح» نقل کرده است که در وقت طلوع سپیده صادق خوانده شود: ',\n",
       " 5: 'سپس می\\u200cگوئى: ',\n",
       " 6: 'آن\\u200cگاه ده مرتبه مى گویى:   ',\n",
       " 7: 'و ذکرهاى وارد بر این وقت، غیر از آنچه ذکر شد، بسیار است و بهترین آنها ذکر «سُبْحانَ اللَّهِ وَالْحَمْدُ لِلَّهِ وَلا اِلهَ اِلا اللَّهُ وَاللَّهُ اَکْبَرُ؛ خدا پاک و منزّه است و ستایش فقط ویژۀ اوست و خدایی جز او نیست و خدا بزرگ\\u200cتر از آن است که وصف شود» می\\u200cباشد که از آن به «باقیات صالحات» تعبیر شده و نیز خواندن این دعاست:',\n",
       " 8: ' چون نداى اذان صبح را شنیدى بگو: '}"
      ]
     },
     "execution_count": 10,
     "metadata": {},
     "output_type": "execute_result"
    }
   ],
   "source": [
    "Num=0\n",
    "for i, url in enumerate(links[16:17]):\n",
    "    url = url.replace(\" \",\"\")\n",
    "    Url=url.encode('ascii', 'ignore').decode('ascii')\n",
    "    request = urreq.Request(f\"{Url}\")\n",
    "    resp1 = urreq.urlopen(request)\n",
    "    resp = resp1.read()\n",
    "    soup = bs.BeautifulSoup(resp, 'html.parser')\n",
    "    ArabTar = soup.findAll('section', {'class': 'js_MafatidText'}) #js_MafatidText MafatidText m0a table\n",
    "    Title = str(soup.findAll('title'))\n",
    "    Title = Title.replace('[<title>', '')\n",
    "    Title = Title.replace('</title>]', '')\n",
    "    Title = Title.replace('متن و ترجمه استاد انصاریان', '')\n",
    "    Title = Title.replace('-- صوتی', '')\n",
    "    Title = Title.replace(' -  - صوتی', '')\n",
    "    Title = Title.replace('  - ', '')\n",
    "    Title = Title.replace(' - ', '')\n",
    "\n",
    "    Arabics={}\n",
    "    Farsi={}\n",
    "    Tozih={}\n",
    "    arcount=0\n",
    "    facount=0\n",
    "    tocount=0\n",
    "\n",
    "\n",
    "    About = soup.findAll('article', {'class': 'AboutText'}) #js_MafatidText MafatidText m0a table\n",
    "    # sects=(str(About)).split(\",\")\n",
    "    for sec in About:\n",
    "        tocount=tocount+1\n",
    "        Tozih.update({tocount:sec.get_text()})\n",
    "Tozih"
   ]
  },
  {
   "cell_type": "code",
   "execution_count": 12,
   "metadata": {},
   "outputs": [
    {
     "data": {
      "text/plain": [
       "{}"
      ]
     },
     "execution_count": 12,
     "metadata": {},
     "output_type": "execute_result"
    }
   ],
   "source": [
    "Tar = soup.findAll('div', {'class': 'MyFaText'}) #js_MafatidText MafatidText m0a table\n",
    "for sec in Tar:\n",
    "    facount=facount+1\n",
    "    Farsi.update({facount:sec.get_text()})\n",
    "Farsi"
   ]
  },
  {
   "cell_type": "code",
   "execution_count": null,
   "metadata": {},
   "outputs": [],
   "source": []
  }
 ],
 "metadata": {
  "kernelspec": {
   "display_name": "Python 3",
   "language": "python",
   "name": "python3"
  },
  "language_info": {
   "codemirror_mode": {
    "name": "ipython",
    "version": 3
   },
   "file_extension": ".py",
   "mimetype": "text/x-python",
   "name": "python",
   "nbconvert_exporter": "python",
   "pygments_lexer": "ipython3",
   "version": "3.8.2"
  }
 },
 "nbformat": 4,
 "nbformat_minor": 4
}
