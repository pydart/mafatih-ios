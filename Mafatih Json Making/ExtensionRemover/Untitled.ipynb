{
 "cells": [
  {
   "cell_type": "code",
   "execution_count": 1,
   "metadata": {},
   "outputs": [],
   "source": [
    "import json\n",
    "import os\n",
    "from natsort import natsorted # pip install natsort\n",
    "\n",
    "ListSearch=[]\n",
    "# babsNum=[1,2,3,4,5,6,71,72,73,74,75,76,\"infobabs\",\"about\"]\n",
    "babsNum=[71]\n",
    "\n",
    "index=0\n",
    "\n",
    "for i in babsNum:\n",
    "    # filelocation=f\"/Users/msh/Developer/Flutter/Mafatih/python/Babs/{i}\"\n",
    "    filelocation=f\"/Users/msh/Developer/HJ/hj_sites/arbaeentv_files/arbaeenTV_App/Mafatih Json Making/ExtensionRemover/jsons\"\n",
    "\n",
    "    listFiles = natsorted(os.listdir(filelocation))  # dir is your directory path\n",
    "    number_files = len(listFiles)\n",
    "    for onefile in listFiles:\n",
    "        dirr= f\"{filelocation}/{onefile}\"\n",
    "        # print(dirr)\n",
    "        pre, ext = os.path.splitext(onefile)\n",
    "        des= f\"{filelocation}/{pre}\"\n",
    "        os.rename(dirr, des)\n",
    "\n"
   ]
  },
  {
   "cell_type": "markdown",
   "metadata": {},
   "source": [
    "changin MP3 to mp3"
   ]
  },
  {
   "cell_type": "code",
   "execution_count": null,
   "metadata": {},
   "outputs": [],
   "source": [
    "import json\n",
    "import os\n",
    "from natsort import natsorted # pip install natsort\n",
    "\n",
    "ListSearch=[]\n",
    "# babsNum=[1,2,3,4,5,6,71,72,73,74,75,76,\"infobabs\",\"about\"]\n",
    "babsNum=[71]\n",
    "\n",
    "index=0\n",
    "\n",
    "for i in babsNum:\n",
    "    # filelocation=f\"/Users/msh/Developer/Flutter/Mafatih/python/Babs/{i}\"\n",
    "    filelocation=f\"/Users/msh/Developer/HJ/hj_sites/arbaeentv_files/arbaeenTV_App/Mafatih Json Making/ExtensionRemover/jsons\"\n",
    "\n",
    "    listFiles = natsorted(os.listdir(filelocation))  # dir is your directory path\n",
    "    number_files = len(listFiles)\n",
    "    for onefile in listFiles:\n",
    "        dirr= f\"{filelocation}/{onefile}\"\n",
    "        # print(dirr)\n",
    "        pre, ext = os.path.splitext(onefile)\n",
    "        des= f\"{filelocation}/{pre}.mp3\"\n",
    "        os.rename(dirr, des)\n"
   ]
  }
 ],
 "metadata": {
  "kernelspec": {
   "display_name": "Python 3",
   "language": "python",
   "name": "python3"
  },
  "language_info": {
   "codemirror_mode": {
    "name": "ipython",
    "version": 3
   },
   "file_extension": ".py",
   "mimetype": "text/x-python",
   "name": "python",
   "nbconvert_exporter": "python",
   "pygments_lexer": "ipython3",
   "version": "3.8.13"
  }
 },
 "nbformat": 4,
 "nbformat_minor": 4
}
