{
 "cells": [
  {
   "cell_type": "code",
   "execution_count": 5,
   "metadata": {},
   "outputs": [
    {
     "name": "stdout",
     "output_type": "stream",
     "text": [
      "1\n",
      "2\n",
      "3\n",
      "4\n",
      "6\n",
      "71\n",
      "72\n",
      "73\n",
      "74\n",
      "75\n",
      "76\n"
     ]
    }
   ],
   "source": [
    "import json\n",
    "import os\n",
    "from natsort import natsorted # pip install natsort\n",
    "\n",
    "ListSearch=[]\n",
    "babsNum=[1,2,3,4,6,71,72,73,74,75,76]\n",
    "index=0\n",
    "\n",
    "for i in babsNum:\n",
    "    filelocation=f\"/Users/msh/Developer/Flutter/Mafatih/python/Babs/{i}\"\n",
    "    print(i)\n",
    "\n",
    "    listFiles = natsorted(os.listdir(filelocation))  # dir is your directory path\n",
    "    number_files = len(listFiles)\n",
    "    try:\n",
    "        listFiles.remove('.DS_Store')\n",
    "    except:\n",
    "        pass\n",
    "    \n",
    "\n",
    "    for onefile in listFiles:\n",
    "        index=index+1\n",
    "\n",
    "        dirr= f\"{filelocation}/{onefile}\"\n",
    "        # print(dirr)\n",
    "        f = open(dirr, \"r\", encoding='utf8')\n",
    "        fileRead = json.load(f)\n",
    "#         print(onefile[:-5])\n",
    "        fileFinal=fileRead[onefile]\n",
    "        tozihat=\"\"\n",
    "        for key in list(fileFinal[\"arabic\"].keys()):\n",
    "#             if fileFinal[\"tozih\"][key]!=\"\":\n",
    "                try:\n",
    "                    toz=fileFinal[\"tozih\"][key]\n",
    "                except:\n",
    "                    toz=\"\"\n",
    "                try:\n",
    "                    far=fileFinal[\"farsi\"][key]\n",
    "                except:\n",
    "                    far=\"\"\n",
    "                \n",
    "                tozihat=tozihat+toz+fileFinal[\"arabic\"][key]+far\n",
    "    \n",
    "#         for key in list(fileFinal[\"tozih\"].keys()):\n",
    "#             if fileFinal[\"tozih\"][key]!=\"\":\n",
    "#                 tozihat=tozihat+fileFinal[\"tozih\"][key]\n",
    "\n",
    "        ListSearch.append({'index': index , 'indexbab': int(onefile), 'bab':i , 'title' :fileFinal[\"title\"]  , 'titleDetail' :fileFinal[\"title\"],'arabic': [tozihat] })\n",
    "\n",
    "#         ListSearch.append(fileFinal)\n",
    "\n",
    "\n",
    "dirDestination=\"\"\n",
    "# dirFinal=f\"{dirDestination}\\\\ListofJsonForSearch.json\"\n",
    "dirFinal=f\"ListofJsonForSearch2.json\"\n",
    "with open(dirFinal, \"w\", encoding='utf8') as write_file:\n",
    "    json.dump(ListSearch, write_file, ensure_ascii=False, indent=4)"
   ]
  },
  {
   "cell_type": "code",
   "execution_count": null,
   "metadata": {},
   "outputs": [],
   "source": [
    "#                     toz=fileFinal[\"tozih\"][key]\n",
    "#                 except:\n",
    "#                     toz=\"\"\n",
    "#                 try:\n",
    "#                     far=fileFinal[\"farsi\"][key]\n",
    "#                 except:\n",
    "#                     far=\"\"\n",
    "                \n",
    "#                 tozihat=tozihat+toz+fileFinal[\"arabic\"][key]+far\n",
    "    \n",
    "# #         for key in list(fileFinal[\"tozih\"].keys()):\n",
    "# #             if fileFinal[\"tozih\"][key]!=\"\":\n",
    "# #                 tozihat=tozihat+fileFinal[\"tozih\"][key]\n",
    "\n",
    "#         ListSearch.append({'index': index , 'indexbab': int(onefile[:-5]), 'bab':i , 'title' :fileFinal[\"title\"]  , 'titleDetail' :fileFinal[\"title\"],'arabic': [tozihat] })\n",
    "\n",
    "# #         ListSearch.append(fileFinal)\n",
    "\n",
    "\n",
    "# dirDestination=\"\"\n",
    "# # dirFinal=f\"{dirDestination}\\\\ListofJsonForSearch.json\"\n",
    "# dirFinal=f\"ListofJsonForSearch2.json\"\n",
    "# with open(dirFinal, \"w\", encoding='utf8') as write_file:\n",
    "#     json.dump(ListSearch, write_file, ensure_ascii=False, indent=4)"
   ]
  },
  {
   "cell_type": "code",
   "execution_count": 24,
   "metadata": {},
   "outputs": [
    {
     "data": {
      "text/plain": [
       "'دعای کمیل از دعا های بسیار معروف حضرت علی علیه السلام است که  آن را به کمیل که از خواصّ اصحاب آن حضرت بود آموخت . باشد این زیارت را به نیابت از امیرالمؤمنین علیه السلام برای سلامتی امام زمان عج الله تعالی فرجه الشریف بخوانیم: '"
      ]
     },
     "execution_count": 24,
     "metadata": {},
     "output_type": "execute_result"
    }
   ],
   "source": [
    "fileFinal[\"tozih\"][\"1\"]"
   ]
  },
  {
   "cell_type": "code",
   "execution_count": null,
   "metadata": {},
   "outputs": [],
   "source": []
  }
 ],
 "metadata": {
  "kernelspec": {
   "display_name": "Python 3",
   "language": "python",
   "name": "python3"
  },
  "language_info": {
   "codemirror_mode": {
    "name": "ipython",
    "version": 3
   },
   "file_extension": ".py",
   "mimetype": "text/x-python",
   "name": "python",
   "nbconvert_exporter": "python",
   "pygments_lexer": "ipython3",
   "version": "3.8.13+"
  }
 },
 "nbformat": 4,
 "nbformat_minor": 4
}
