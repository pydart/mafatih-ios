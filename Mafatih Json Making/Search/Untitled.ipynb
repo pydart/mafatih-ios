{
 "cells": [
  {
   "cell_type": "code",
   "execution_count": 35,
   "metadata": {},
   "outputs": [],
   "source": [
    "import json\n",
    "import os\n",
    "from natsort import natsorted # pip install natsort\n",
    "\n",
    "ListSearch=[]\n",
    "babsNum=[1,2,3,4,6,70,71,72,73,74,75,76,77]\n",
    "for i in babsNum:\n",
    "    index=0\n",
    "    filelocation=f\"G:\\\\Flutter\\\\Mafatih\\\\Mafatih\\\\Mafatih\\\\python\\\\Babs\\\\{i}\"\n",
    "\n",
    "    listFiles = natsorted(os.listdir(filelocation))  # dir is your directory path\n",
    "    number_files = len(listFiles)\n",
    "    for onefile in listFiles:\n",
    "        index=index+1\n",
    "\n",
    "        dirr= f\"{filelocation}\\\\{onefile}\"\n",
    "        # print(dirr)\n",
    "        f = open(dirr, \"r\", encoding='utf8')\n",
    "        fileRead = json.load(f)\n",
    "#         print(onefile[:-5])\n",
    "        fileFinal=fileRead[onefile[:-5]]\n",
    "        tozihat=\"\"\n",
    "        for key in list(fileFinal[\"arabic\"].keys()):\n",
    "#             if fileFinal[\"tozih\"][key]!=\"\":\n",
    "                try:\n",
    "                    toz=fileFinal[\"tozih\"][key]\n",
    "                except:\n",
    "                    toz=\"\"\n",
    "                try:\n",
    "                    far=fileFinal[\"farsi\"][key]\n",
    "                except:\n",
    "                    far=\"\"\n",
    "                \n",
    "                tozihat=tozihat+toz+fileFinal[\"arabic\"][key]+far\n",
    "    \n",
    "#         for key in list(fileFinal[\"tozih\"].keys()):\n",
    "#             if fileFinal[\"tozih\"][key]!=\"\":\n",
    "#                 tozihat=tozihat+fileFinal[\"tozih\"][key]\n",
    "\n",
    "        ListSearch.append({'index': index , 'indexbab': int(onefile[:-5]), 'bab':i , 'title' :fileFinal[\"title\"]  , 'titleDetail' :fileFinal[\"title\"],'arabic': [tozihat] })\n",
    "\n",
    "#         ListSearch.append(fileFinal)\n",
    "\n",
    "\n",
    "dirDestination=\"\"\n",
    "# dirFinal=f\"{dirDestination}\\\\ListofJsonForSearch.json\"\n",
    "dirFinal=f\"ListofJsonForSearch2.json\"\n",
    "with open(dirFinal, \"w\", encoding='utf8') as write_file:\n",
    "    json.dump(ListSearch, write_file, ensure_ascii=False, indent=4)"
   ]
  },
  {
   "cell_type": "code",
   "execution_count": 24,
   "metadata": {},
   "outputs": [
    {
     "data": {
      "text/plain": [
       "'دعای کمیل از دعا های بسیار معروف حضرت علی علیه السلام است که  آن را به کمیل که از خواصّ اصحاب آن حضرت بود آموخت . باشد این زیارت را به نیابت از امیرالمؤمنین علیه السلام برای سلامتی امام زمان عج الله تعالی فرجه الشریف بخوانیم: '"
      ]
     },
     "execution_count": 24,
     "metadata": {},
     "output_type": "execute_result"
    }
   ],
   "source": [
    "fileFinal[\"tozih\"][\"1\"]"
   ]
  },
  {
   "cell_type": "code",
   "execution_count": null,
   "metadata": {},
   "outputs": [],
   "source": []
  }
 ],
 "metadata": {
  "kernelspec": {
   "display_name": "Python 3",
   "language": "python",
   "name": "python3"
  },
  "language_info": {
   "codemirror_mode": {
    "name": "ipython",
    "version": 3
   },
   "file_extension": ".py",
   "mimetype": "text/x-python",
   "name": "python",
   "nbconvert_exporter": "python",
   "pygments_lexer": "ipython3",
   "version": "3.8.2"
  }
 },
 "nbformat": 4,
 "nbformat_minor": 4
}
