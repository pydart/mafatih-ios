{
 "cells": [
  {
   "cell_type": "code",
   "execution_count": 1,
   "metadata": {},
   "outputs": [],
   "source": [
    "import os\n",
    "import shutil"
   ]
  },
  {
   "cell_type": "code",
   "execution_count": 2,
   "metadata": {},
   "outputs": [],
   "source": [
    "from asyncio import constants\n",
    "import pandas as pd\n",
    "df = pd.read_csv('G:\\\\Flutter\\\\Mafatih\\\\App_kochulo\\\\New_with_player\\\\Source\\\\Coding\\\\db.csv', sep=';')\n",
    "\n",
    "applicationId= df['applicationId'][0]\n",
    "name=df['name'][0]\n",
    "advalue=df['advalue'][0]\n",
    "adUnitId= df['adUnitId'][0]\n",
    "aboutUs= df['aboutUs'][0]\n",
    "constants= df['constants'][0]"
   ]
  },
  {
   "cell_type": "code",
   "execution_count": 3,
   "metadata": {},
   "outputs": [],
   "source": [
    "#googleplay url\n",
    "with open('G:\\\\Flutter\\\\Mafatih\\\\App_kochulo\\\\New_with_player\\\\Source\\\\Coding\\\\googleplay.dart', 'r+', encoding='utf-8') as file:\n",
    "    data = file.readlines()\n",
    "    data[1] = f\"  static final newVersionUrl = 'https://videoir.com/apps_versions/{applicationId[8:-1]}.php';\\n\"\n",
    "    file.writelines(data)"
   ]
  },
  {
   "cell_type": "code",
   "execution_count": 13,
   "metadata": {},
   "outputs": [
    {
     "data": {
      "text/plain": [
       "\"  static final newVersionUrl = 'https://videoir.com/apps_versions/manjoo.php';\\n\""
      ]
     },
     "execution_count": 13,
     "metadata": {},
     "output_type": "execute_result"
    }
   ],
   "source": [
    "#googleplay url\n",
    "with open('G:\\\\Flutter\\\\Mafatih\\\\App_kochulo\\\\New_with_player\\\\Source\\\\Coding\\\\cafebazaar.dart', 'r+', encoding='utf-8') as file:\n",
    "    data = file.readlines()\n",
    "    data[1] = f\"  static final newVersionUrl = 'https://videoir.com/apps_versions/{applicationId[8:-1]}.php';\\n\"\n",
    "    file.writelines(data)\n",
    "    file.close()\n",
    "    \n",
    "f\"  static final newVersionUrl = 'https://videoir.com/apps_versions/{applicationId[8:-1]}.php';\\n\""
   ]
  },
  {
   "cell_type": "code",
   "execution_count": 14,
   "metadata": {},
   "outputs": [
    {
     "ename": "IndexError",
     "evalue": "list assignment index out of range",
     "output_type": "error",
     "traceback": [
      "\u001b[1;31m---------------------------------------------------------------------------\u001b[0m",
      "\u001b[1;31mIndexError\u001b[0m                                Traceback (most recent call last)",
      "\u001b[1;32m<ipython-input-14-b0966757b261>\u001b[0m in \u001b[0;36m<module>\u001b[1;34m\u001b[0m\n\u001b[1;32m----> 1\u001b[1;33m \u001b[0mdata\u001b[0m\u001b[1;33m[\u001b[0m\u001b[1;36m64\u001b[0m\u001b[1;33m]\u001b[0m \u001b[1;33m=\u001b[0m \u001b[1;34m\"        title: 'دعای حوحو',\"\u001b[0m\u001b[1;33m\u001b[0m\u001b[1;33m\u001b[0m\u001b[0m\n\u001b[0m\u001b[0;32m      2\u001b[0m \u001b[1;33m\u001b[0m\u001b[0m\n\u001b[0;32m      3\u001b[0m \u001b[1;32mwith\u001b[0m \u001b[0mopen\u001b[0m\u001b[1;33m(\u001b[0m\u001b[1;34m'G:\\\\Flutter\\\\Mafatih\\\\App_kochulo\\\\New_with_player\\\\Source\\\\test\\\\lib\\\\main.dart'\u001b[0m\u001b[1;33m,\u001b[0m \u001b[1;34m'w'\u001b[0m\u001b[1;33m,\u001b[0m \u001b[0mencoding\u001b[0m\u001b[1;33m=\u001b[0m\u001b[1;34m'utf-8'\u001b[0m\u001b[1;33m)\u001b[0m \u001b[1;32mas\u001b[0m \u001b[0mfile\u001b[0m\u001b[1;33m:\u001b[0m\u001b[1;33m\u001b[0m\u001b[1;33m\u001b[0m\u001b[0m\n\u001b[0;32m      4\u001b[0m     \u001b[0mfile\u001b[0m\u001b[1;33m.\u001b[0m\u001b[0mwritelines\u001b[0m\u001b[1;33m(\u001b[0m\u001b[0mdata\u001b[0m\u001b[1;33m)\u001b[0m\u001b[1;33m\u001b[0m\u001b[1;33m\u001b[0m\u001b[0m\n",
      "\u001b[1;31mIndexError\u001b[0m: list assignment index out of range"
     ]
    }
   ],
   "source": [
    "data[64] = \"        title: 'دعای حوحو',\"\n",
    "  \n",
    "with open('G:\\\\Flutter\\\\Mafatih\\\\App_kochulo\\\\New_with_player\\\\Source\\\\test\\\\lib\\\\main.dart', 'w', encoding='utf-8') as file:\n",
    "    file.writelines(data)"
   ]
  },
  {
   "cell_type": "code",
   "execution_count": 9,
   "metadata": {},
   "outputs": [
    {
     "name": "stdout",
     "output_type": "stream",
     "text": [
      "G:\\Flutter\\Mafatih\\App_kochulo\\New_with_player\\Source\\New files & folders\\assets G:\\Flutter\\Mafatih\\App_kochulo\\New_with_player\\Source\\Kernel\\assets\n",
      "G:\\Flutter\\Mafatih\\App_kochulo\\New_with_player\\Source\\New files & folders\\res G:\\Flutter\\Mafatih\\App_kochulo\\New_with_player\\Source\\Kernel\\android\\app\\src\\main\\res\n",
      "G:\\Flutter\\Mafatih\\App_kochulo\\New_with_player\\Source\\New files & folders\\Babs G:\\Flutter\\Mafatih\\App_kochulo\\New_with_player\\Source\\Kernel\\python\\Babs\n"
     ]
    }
   ],
   "source": [
    "foo =['G:\\\\Flutter\\\\Mafatih\\\\App_kochulo\\\\New_with_player\\\\Source\\\\New files & folders\\\\assets', 'G:\\\\Flutter\\\\Mafatih\\\\App_kochulo\\\\New_with_player\\\\Source\\\\New files & folders\\\\res','G:\\\\Flutter\\\\Mafatih\\\\App_kochulo\\\\New_with_player\\\\Source\\\\New files & folders\\\\Babs']\n",
    "\n",
    "\n",
    "bar =['G:\\\\Flutter\\\\Mafatih\\\\App_kochulo\\\\New_with_player\\\\Source\\\\Kernel\\\\assets', 'G:\\\\Flutter\\\\Mafatih\\\\App_kochulo\\\\New_with_player\\\\Source\\\\Kernel\\\\android\\\\app\\\\src\\\\main\\\\res','G:\\\\Flutter\\\\Mafatih\\\\App_kochulo\\\\New_with_player\\\\Source\\\\Kernel\\\\python\\\\Babs']\n",
    "\n",
    "\n",
    "for f, b in zip(foo, bar):\n",
    "    print(f, b)"
   ]
  },
  {
   "cell_type": "code",
   "execution_count": 30,
   "metadata": {},
   "outputs": [
    {
     "data": {
      "text/html": [
       "<div>\n",
       "<style scoped>\n",
       "    .dataframe tbody tr th:only-of-type {\n",
       "        vertical-align: middle;\n",
       "    }\n",
       "\n",
       "    .dataframe tbody tr th {\n",
       "        vertical-align: top;\n",
       "    }\n",
       "\n",
       "    .dataframe thead th {\n",
       "        text-align: right;\n",
       "    }\n",
       "</style>\n",
       "<table border=\"1\" class=\"dataframe\">\n",
       "  <thead>\n",
       "    <tr style=\"text-align: right;\">\n",
       "      <th></th>\n",
       "      <th>name</th>\n",
       "      <th>applicationId</th>\n",
       "      <th>advalue</th>\n",
       "      <th>adUnitId</th>\n",
       "      <th>aboutUs</th>\n",
       "    </tr>\n",
       "  </thead>\n",
       "  <tbody>\n",
       "    <tr>\n",
       "      <th>0</th>\n",
       "      <td>\"دعای توسل\"</td>\n",
       "      <td>\"pydart.wuyi\"</td>\n",
       "      <td>\"ca-app-pub-5524959616213219~7236433594\"</td>\n",
       "      <td>ca-app-pub-5524959616213219/8389415935'</td>\n",
       "      <td>\"در این دعا با توسل به چهارده معصوم(ع) و واسطه...</td>\n",
       "    </tr>\n",
       "  </tbody>\n",
       "</table>\n",
       "</div>"
      ],
      "text/plain": [
       "          name  applicationId                                   advalue  \\\n",
       "0  \"دعای توسل\"  \"pydart.wuyi\"  \"ca-app-pub-5524959616213219~7236433594\"   \n",
       "\n",
       "                                  adUnitId  \\\n",
       "0  ca-app-pub-5524959616213219/8389415935'   \n",
       "\n",
       "                                             aboutUs  \n",
       "0  \"در این دعا با توسل به چهارده معصوم(ع) و واسطه...  "
      ]
     },
     "execution_count": 30,
     "metadata": {},
     "output_type": "execute_result"
    }
   ],
   "source": [
    "import pandas as pd\n",
    "cwd = os.getcwd()\n",
    "df = pd.read_csv('G:\\\\Flutter\\\\Mafatih\\\\App_kochulo\\\\New_with_player\\\\Source\\\\Coding\\\\db.csv', sep=';')\n",
    "df"
   ]
  },
  {
   "cell_type": "code",
   "execution_count": 53,
   "metadata": {},
   "outputs": [
    {
     "name": "stdout",
     "output_type": "stream",
     "text": [
      "wuyi\n"
     ]
    }
   ],
   "source": [
    "adres=df['applicationId'][0]\n",
    "print(adres[8:-1])\n"
   ]
  },
  {
   "cell_type": "code",
   "execution_count": 60,
   "metadata": {},
   "outputs": [
    {
     "data": {
      "text/plain": [
       "'                      \"در این دعا با توسل به چهارده معصوم(ع) و واسطه قرار دادن آنها به درگاه خداوند پس از اتمام دعا، حاجت خود را از خدا در خواست میکنیم. جملات صدر و ذیل آن چنین است: ”اللهم انی اسئلک و اتوجه الیک بنبیک نبی الرحمة…”؛ خدایا من از تو میخواهم و روی میآورم به سوی تو، به پیامبرت، پیامبر رحمت… ”یا وجیها عندالله اشفع لنا عندالله”؛ ای آبرومند نزد خدا، شفاعت کن برای ما نزد خدا.( مفاتیح الجنان، دعای توسل)\\\\n\\\\nمرحوم آیت الله روح الله شاه آبادی، فرزند آیت الله شاه آبادی که استاد امام خمینی(ره) بودند، در خصوص فضیلت دعای توسل می گفتند: «دعای توسّل را هر روز بخوان که اصل اثرش مربوط به هر روز خواندن آن است که در اثر هر روز خواندن، آن را حفظ هم میشوید. اگر کسی این دعا را هر روز بخواند، کلیدی است که به هر قفلی میخورد، در برآوردهکردن حاجات بسیار مؤثر است، ایمان انسان را زیاد میکند، بهترین مونس انسان است، در وقت تنهایی و هنگامی که به حاجتی رسیدید، متوجّه میشوید که دعای توسّل واسطه شده که آن حاجت را از خدا گرفتهاید، بنابراین دفعه دیگر هم که حاجتی داشته باشید، همین دعا را میخوانید.»\\\\n\\\\nشیخ عباس قمی در خصوص دعای توسل می گوید: «شيخ كفعمى در كتاب بَلَدُ الأَمين دعاى مفصلى موسوم به دعاى فَرَج نقل كرده كه اين دعاى تَوَسُّل در ضمن آن آمده است و به گمان من، «دوازده امام» خواجه نصير الدين طوسى همين دعاى توسّل است كه آن را با صلوات بر حجّت هاى پاك الهى تركيب كرده اند و مجموعه آن در يك خطبه بليغ و رسا جا گرفته است، و كفعمى آن را در بخشهاى آخر كتاب «مِصْباح» ذكر كرده است.»\\\\n\\\\nگروه پایدارت را از دعای خیرتان محروم نفرمایید.\\\\n ومن الله توفیق\",\\n'"
      ]
     },
     "execution_count": 60,
     "metadata": {},
     "output_type": "execute_result"
    }
   ],
   "source": [
    "with open('G:\\\\Flutter\\\\Mafatih\\\\App_kochulo\\\\New_with_player\\\\Source\\\\Kernel\\\\lib\\\\ui\\\\ayatkursi.dart', 'r+', encoding='utf-8') as file:\n",
    "    data = file.readlines()\n",
    "data[34]"
   ]
  },
  {
   "cell_type": "code",
   "execution_count": 39,
   "metadata": {},
   "outputs": [
    {
     "data": {
      "text/plain": [
       "'        applicationId \"pydart.wuyi\"\\n'"
      ]
     },
     "execution_count": 39,
     "metadata": {},
     "output_type": "execute_result"
    }
   ],
   "source": [
    "f'        applicationId {adres}\\n'"
   ]
  },
  {
   "cell_type": "code",
   "execution_count": 40,
   "metadata": {},
   "outputs": [
    {
     "ename": "ValueError",
     "evalue": "I/O operation on closed file.",
     "output_type": "error",
     "traceback": [
      "\u001b[1;31m---------------------------------------------------------------------------\u001b[0m",
      "\u001b[1;31mValueError\u001b[0m                                Traceback (most recent call last)",
      "\u001b[1;32m<ipython-input-40-17fb9b8815ef>\u001b[0m in \u001b[0;36m<module>\u001b[1;34m\u001b[0m\n\u001b[1;32m----> 1\u001b[1;33m \u001b[0mfile\u001b[0m\u001b[1;33m.\u001b[0m\u001b[0mwritelines\u001b[0m\u001b[1;33m(\u001b[0m\u001b[0mdata\u001b[0m\u001b[1;33m)\u001b[0m\u001b[1;33m\u001b[0m\u001b[1;33m\u001b[0m\u001b[0m\n\u001b[0m",
      "\u001b[1;31mValueError\u001b[0m: I/O operation on closed file."
     ]
    }
   ],
   "source": [
    "    file.writelines(data)\n"
   ]
  },
  {
   "cell_type": "code",
   "execution_count": 69,
   "metadata": {},
   "outputs": [
    {
     "name": "stdout",
     "output_type": "stream",
     "text": [
      "1\n"
     ]
    }
   ],
   "source": [
    "strings = [\"one\", \"two\", \"three\"]\n",
    "substring = \"wo\"\n",
    "for string in strings:\n",
    "    if (substring in string ):\n",
    "        strings.index(string)\n",
    "        print(strings.index(string))\n"
   ]
  },
  {
   "cell_type": "code",
   "execution_count": 5,
   "metadata": {},
   "outputs": [],
   "source": [
    "with open('G:\\\\Flutter\\\\Mafatih\\\\App_kochulo\\\\New_with_player\\\\Source\\\\Kernel\\\\lib\\\\ui\\\\home2.dart', 'r+', encoding='utf-8') as file:\n",
    "    data = file.readlines()\n",
    "    data[64] = f\"        adUnitId: {adUnitId},\\n\"\n",
    "    data[64] = f'          detail: {name},\\n'\n",
    "    substring=f\"{applicationId[8:-1]}.png\"\n",
    "    for string in data:\n",
    "        if (substring in string ):\n",
    "            indexDrawer=data.index(string)\n",
    "\n",
    "            data[indexDrawer-19:indexDrawer+23]=[]\n",
    "            file.writelines(data)"
   ]
  },
  {
   "cell_type": "code",
   "execution_count": 6,
   "metadata": {},
   "outputs": [],
   "source": [
    "with open('G:\\\\Flutter\\\\Mafatih\\\\App_kochulo\\\\New_with_player\\\\Source\\\\Kernel\\\\lib\\\\ui\\\\ayatkursi.dart', 'r+', encoding='utf-8') as file:\n",
    "    data = file.readlines()\n",
    "    data[34] = f'                      {aboutUs}'\n",
    "    file.writelines(data)"
   ]
  },
  {
   "cell_type": "code",
   "execution_count": 17,
   "metadata": {},
   "outputs": [
    {
     "data": {
      "text/plain": [
       "0"
      ]
     },
     "execution_count": 17,
     "metadata": {},
     "output_type": "execute_result"
    }
   ],
   "source": [
    "import os\n",
    "os.system(\"start \\\"\\\" cmd /k \\\"cd G:\\\\Flutter\\\\Mafatih\\\\App_kochulo\\\\New_with_player\\\\Source\\\\Kernel & flutter clean & flutter build apk --split-per-abi\\\"\")"
   ]
  },
  {
   "cell_type": "code",
   "execution_count": 12,
   "metadata": {},
   "outputs": [
    {
     "data": {
      "text/plain": [
       "0"
      ]
     },
     "execution_count": 12,
     "metadata": {},
     "output_type": "execute_result"
    }
   ],
   "source": [
    "import os\n",
    "os.system('cmd /k \"color a & date\"')"
   ]
  },
  {
   "cell_type": "code",
   "execution_count": 41,
   "metadata": {},
   "outputs": [],
   "source": [
    "with open('G:\\\\Flutter\\\\Mafatih\\\\App_kochulo\\\\New_with_player\\\\Source\\\\Kernel\\\\lib\\\\ui\\\\ayatkursi.dart', 'r', encoding='utf-8') as file:\n",
    "    data = file.readlines()\n",
    "    data[34] = '\"یسلبیل\",\\n'\n",
    "    file.close()\n",
    "    \n",
    "\n"
   ]
  },
  {
   "cell_type": "code",
   "execution_count": 42,
   "metadata": {},
   "outputs": [],
   "source": [
    "with open('G:\\\\Flutter\\\\Mafatih\\\\App_kochulo\\\\New_with_player\\\\Source\\\\Kernel\\\\lib\\\\ui\\\\ayatkursi.dart', 'w', encoding='utf-8') as file:\n",
    "    file.writelines(data)\n",
    "    file.close()"
   ]
  },
  {
   "cell_type": "code",
   "execution_count": 45,
   "metadata": {},
   "outputs": [],
   "source": [
    "from asyncio import constants\n",
    "import pandas as pd\n",
    "df = pd.read_csv('G:\\\\Flutter\\\\Mafatih\\\\App_kochulo\\\\New_with_player\\\\Source\\\\Coding\\\\db.csv', sep=';')\n",
    "\n",
    "applicationId= df['applicationId'][0]\n",
    "name=df['name'][0]\n",
    "advalue=df['advalue'][0]\n",
    "adUnitId= df['adUnitId'][0]\n",
    "aboutUs= df['aboutUs'][0]\n",
    "constants= df['constants'][0]"
   ]
  },
  {
   "cell_type": "code",
   "execution_count": 46,
   "metadata": {},
   "outputs": [
    {
     "data": {
      "text/plain": [
       "'cafebazaar'"
      ]
     },
     "execution_count": 46,
     "metadata": {},
     "output_type": "execute_result"
    }
   ],
   "source": [
    "constants"
   ]
  },
  {
   "cell_type": "code",
   "execution_count": 47,
   "metadata": {},
   "outputs": [
    {
     "data": {
      "text/plain": [
       "'G:\\\\Flutter\\\\Mafatih\\\\App_kochulo\\\\New_with_player\\\\Source\\\\Coding\\\\cafebazaar.dart'"
      ]
     },
     "execution_count": 47,
     "metadata": {},
     "output_type": "execute_result"
    }
   ],
   "source": [
    "root_src_dir_item=f'G:\\\\Flutter\\\\Mafatih\\\\App_kochulo\\\\New_with_player\\\\Source\\\\Coding\\\\{constants}.dart'\n",
    "root_src_dir_item"
   ]
  },
  {
   "cell_type": "code",
   "execution_count": 48,
   "metadata": {},
   "outputs": [
    {
     "data": {
      "text/plain": [
       "0"
      ]
     },
     "execution_count": 48,
     "metadata": {},
     "output_type": "execute_result"
    }
   ],
   "source": [
    "import os\n",
    "os.system(\"start \\\"\\\" cmd /k \\\"cd G:\\\\Flutter\\\\Mafatih\\\\App_kochulo\\\\New_with_player\\\\Source\\\\Kernel\\\"\")"
   ]
  },
  {
   "cell_type": "code",
   "execution_count": 49,
   "metadata": {},
   "outputs": [],
   "source": [
    " os.startfile('G:\\\\Flutter\\\\Mafatih\\\\App_kochulo\\\\New_with_player\\\\Source\\\\Kernel\\\\build\\\\app\\\\outputs\\\\flutter-apk')"
   ]
  },
  {
   "cell_type": "code",
   "execution_count": null,
   "metadata": {},
   "outputs": [],
   "source": []
  }
 ],
 "metadata": {
  "kernelspec": {
   "display_name": "Python 3",
   "language": "python",
   "name": "python3"
  },
  "language_info": {
   "codemirror_mode": {
    "name": "ipython",
    "version": 3
   },
   "file_extension": ".py",
   "mimetype": "text/x-python",
   "name": "python",
   "nbconvert_exporter": "python",
   "pygments_lexer": "ipython3",
   "version": "3.8.2"
  }
 },
 "nbformat": 4,
 "nbformat_minor": 4
}
