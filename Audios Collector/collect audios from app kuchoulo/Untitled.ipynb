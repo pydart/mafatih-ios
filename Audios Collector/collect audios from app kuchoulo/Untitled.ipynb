{
 "cells": [
  {
   "cell_type": "code",
   "execution_count": null,
   "metadata": {},
   "outputs": [],
   "source": [
    "import json\n",
    "import os\n",
    "from natsort import natsorted # pip install natsort\n",
    "\n",
    "def merge_JsonFiles(allTozihs,listFiles):\n",
    "\n",
    "    for onefile in listFiles:\n",
    "        dirr= f\"{filelocation}\\\\{onefile}\"\n",
    "    #         print(dirr)\n",
    "        f = open(dirr, \"r\", encoding='utf8')\n",
    "        fileRead = json.load(f)\n",
    "        print(len(allTozihs))\n",
    "        fileFinal=fileRead[onefile[:-5]]\n",
    "        allTozihs=allTozihs+list(fileFinal[\"tozih\"].values())\n",
    "    return allTozihs\n",
    "\n",
    "\n",
    "allTozihs=[]\n",
    "for i in range(1,8):\n",
    "    babcount=i\n",
    "    print(f\"number of bab running is : {i}\")\n",
    "    filelocation=f\"G:\\\\Flutter\\\\Mafatih\\\\Kernel_app_kochulo\\\\kernel_and_bot\\\\KernelBot\\\\python\\\\Babs\\\\{babcount}\"\n",
    "\n",
    "    listFiles = natsorted(os.listdir(filelocation))  # dir is your directory path\n",
    "    number_files = len(listFiles)\n",
    "    \n",
    "    allTozihs=merge_JsonFiles(allTozihs, listFiles)"
   ]
  },
  {
   "cell_type": "code",
   "execution_count": null,
   "metadata": {},
   "outputs": [],
   "source": [
    "allTozihs=[]\n",
    "for i in range(1,8):\n",
    "    babcount=i\n",
    "    print(f\"number of bab running is : {i}\")\n",
    "    filelocation=f\"G:\\\\Flutter\\\\Mafatih\\\\Kernel_app_kochulo\\\\kernel_and_bot\\\\KernelBot\\\\python\\\\Babs\\\\{babcount}\"\n",
    "\n",
    "    listFiles = natsorted(os.listdir(filelocation))  # dir is your directory path\n",
    "    number_files = len(listFiles)\n",
    "    \n",
    "    allTozihs=merge_JsonFiles(allTozihs, listFiles)"
   ]
  }
 ],
 "metadata": {
  "kernelspec": {
   "display_name": "Python 3",
   "language": "python",
   "name": "python3"
  },
  "language_info": {
   "codemirror_mode": {
    "name": "ipython",
    "version": 3
   },
   "file_extension": ".py",
   "mimetype": "text/x-python",
   "name": "python",
   "nbconvert_exporter": "python",
   "pygments_lexer": "ipython3",
   "version": "3.8.2"
  }
 },
 "nbformat": 4,
 "nbformat_minor": 4
}
